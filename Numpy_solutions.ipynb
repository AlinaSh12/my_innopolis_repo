{
  "nbformat": 4,
  "nbformat_minor": 0,
  "metadata": {
    "colab": {
      "provenance": []
    },
    "kernelspec": {
      "name": "python3",
      "display_name": "Python 3"
    },
    "language_info": {
      "name": "python"
    }
  },
  "cells": [
    {
      "cell_type": "markdown",
      "source": [
        "a. Импортируйте библиотеку NumPy\n",
        "\n",
        "---"
      ],
      "metadata": {
        "id": "5Aa6zqSmZT5D"
      }
    },
    {
      "cell_type": "code",
      "source": [
        "import numpy as np\n",
        "print ('Numpy импортирована')"
      ],
      "metadata": {
        "colab": {
          "base_uri": "https://localhost:8080/"
        },
        "id": "zdSAzgOEZbTy",
        "outputId": "631948e4-bdbf-46e4-a3a3-6597ac4238b1"
      },
      "execution_count": 3,
      "outputs": [
        {
          "output_type": "stream",
          "name": "stdout",
          "text": [
            "Numpy импортирована\n"
          ]
        }
      ]
    },
    {
      "cell_type": "markdown",
      "source": [
        "b. Создайте массив из 10 нулей\n",
        "\n",
        "---"
      ],
      "metadata": {
        "id": "h4WkJW9aaB0i"
      }
    },
    {
      "cell_type": "code",
      "source": [
        "array = np.zeros(10)\n",
        "print (array)"
      ],
      "metadata": {
        "colab": {
          "base_uri": "https://localhost:8080/"
        },
        "id": "wTKNkaxCaBPJ",
        "outputId": "34f8b79b-6b39-4933-8a86-2a20e1844347"
      },
      "execution_count": 5,
      "outputs": [
        {
          "output_type": "stream",
          "name": "stdout",
          "text": [
            "[0. 0. 0. 0. 0. 0. 0. 0. 0. 0.]\n"
          ]
        }
      ]
    },
    {
      "cell_type": "markdown",
      "source": [
        "c. Создать массив из 10 единиц\n",
        "\n",
        "---\n"
      ],
      "metadata": {
        "id": "4X6ygqSuaxMh"
      }
    },
    {
      "cell_type": "code",
      "source": [
        "array = np.ones(10)\n",
        "print (array)"
      ],
      "metadata": {
        "colab": {
          "base_uri": "https://localhost:8080/"
        },
        "id": "wy--BL9taw3h",
        "outputId": "e5479e12-037e-4baf-eb3f-4a0ae2eab9b3"
      },
      "execution_count": 6,
      "outputs": [
        {
          "output_type": "stream",
          "name": "stdout",
          "text": [
            "[1. 1. 1. 1. 1. 1. 1. 1. 1. 1.]\n"
          ]
        }
      ]
    },
    {
      "cell_type": "markdown",
      "source": [
        "d. Создать массив из 10 пятерок\n",
        "\n",
        "---\n"
      ],
      "metadata": {
        "id": "As8YkoZ3bCQp"
      }
    },
    {
      "cell_type": "code",
      "source": [
        "array = np.ones(10)*5\n",
        "print (array)"
      ],
      "metadata": {
        "colab": {
          "base_uri": "https://localhost:8080/"
        },
        "id": "Oy3C117haBAW",
        "outputId": "107b5dda-b125-4713-d6d4-f8c35e0bf35b"
      },
      "execution_count": 7,
      "outputs": [
        {
          "output_type": "stream",
          "name": "stdout",
          "text": [
            "[5. 5. 5. 5. 5. 5. 5. 5. 5. 5.]\n"
          ]
        }
      ]
    },
    {
      "cell_type": "markdown",
      "source": [
        "e. Создать массив из целых чисел от 10 до 50\n",
        "\n",
        "---\n",
        "\n"
      ],
      "metadata": {
        "id": "bymNWCCdbRma"
      }
    },
    {
      "cell_type": "code",
      "source": [
        "array = np.arange(10,51)\n",
        "print (array)"
      ],
      "metadata": {
        "colab": {
          "base_uri": "https://localhost:8080/"
        },
        "id": "jHLNmltXbftL",
        "outputId": "19ae2419-d445-40d4-8103-2ba7a11f087b"
      },
      "execution_count": 8,
      "outputs": [
        {
          "output_type": "stream",
          "name": "stdout",
          "text": [
            "[10 11 12 13 14 15 16 17 18 19 20 21 22 23 24 25 26 27 28 29 30 31 32 33\n",
            " 34 35 36 37 38 39 40 41 42 43 44 45 46 47 48 49 50]\n"
          ]
        }
      ]
    },
    {
      "cell_type": "markdown",
      "source": [
        "f. Создать массив из четных чисел от 10 до 50\n",
        "\n",
        "---\n",
        "\n"
      ],
      "metadata": {
        "id": "WB-hcGfTb9kx"
      }
    },
    {
      "cell_type": "code",
      "source": [
        "array = np.arange(10,51,2)\n",
        "print (array)"
      ],
      "metadata": {
        "colab": {
          "base_uri": "https://localhost:8080/"
        },
        "id": "fstF3herdS2q",
        "outputId": "2876a014-49bf-4397-af6d-05c7a79c7256"
      },
      "execution_count": 9,
      "outputs": [
        {
          "output_type": "stream",
          "name": "stdout",
          "text": [
            "[10 12 14 16 18 20 22 24 26 28 30 32 34 36 38 40 42 44 46 48 50]\n"
          ]
        }
      ]
    },
    {
      "cell_type": "markdown",
      "source": [
        "g. Создать матрицу 3х3 с числами от 0 до 8\n",
        "\n",
        "---\n",
        "\n"
      ],
      "metadata": {
        "id": "NPQ238QRdgnx"
      }
    },
    {
      "cell_type": "code",
      "source": [
        "matrix = np.arange(0,9).reshape(3,3)\n",
        "print (matrix)"
      ],
      "metadata": {
        "colab": {
          "base_uri": "https://localhost:8080/"
        },
        "id": "MAcgsHIadiJX",
        "outputId": "34df4deb-ff8e-4bbb-e6b8-7091ae66bfa2"
      },
      "execution_count": 10,
      "outputs": [
        {
          "output_type": "stream",
          "name": "stdout",
          "text": [
            "[[0 1 2]\n",
            " [3 4 5]\n",
            " [6 7 8]]\n"
          ]
        }
      ]
    },
    {
      "cell_type": "markdown",
      "source": [
        "h. Создать единичную матрицу 3x3\n",
        "\n",
        "---\n",
        "\n"
      ],
      "metadata": {
        "id": "v0KYXaFUd5so"
      }
    },
    {
      "cell_type": "code",
      "source": [
        "matrix =np.eye(3,3)\n",
        "print(matrix)"
      ],
      "metadata": {
        "colab": {
          "base_uri": "https://localhost:8080/"
        },
        "id": "nhELbP_Cd_dI",
        "outputId": "a6fe623a-eabd-4009-efaf-681255c0b010"
      },
      "execution_count": 11,
      "outputs": [
        {
          "output_type": "stream",
          "name": "stdout",
          "text": [
            "[[1. 0. 0.]\n",
            " [0. 1. 0.]\n",
            " [0. 0. 1.]]\n"
          ]
        }
      ]
    },
    {
      "cell_type": "markdown",
      "source": [
        "i. Используйте NumPy для генерации случайного числа от 0 до 1\n",
        "\n",
        "---\n",
        "\n"
      ],
      "metadata": {
        "id": "k4JElZOPegx6"
      }
    },
    {
      "cell_type": "code",
      "source": [
        "rndm_num = np.random.rand(1)\n",
        "print ('Случайное число:', rndm_num)"
      ],
      "metadata": {
        "colab": {
          "base_uri": "https://localhost:8080/"
        },
        "id": "Ns7NLkyZem2w",
        "outputId": "d2298fde-3684-440b-daf2-4ebe2c7fe408"
      },
      "execution_count": 13,
      "outputs": [
        {
          "output_type": "stream",
          "name": "stdout",
          "text": [
            "Случайное число: [0.35707116]\n"
          ]
        }
      ]
    },
    {
      "cell_type": "markdown",
      "source": [
        "j. Используйте NumPy для генерации массива из 25 случайных чисел,\n",
        "взятых из стандартного нормального распределения\n",
        "\n",
        "---\n",
        "\n"
      ],
      "metadata": {
        "id": "VT7R3Dwufy13"
      }
    },
    {
      "cell_type": "code",
      "source": [
        "array = np.random.rand(25)\n",
        "print (array)"
      ],
      "metadata": {
        "colab": {
          "base_uri": "https://localhost:8080/"
        },
        "id": "ZHGyGDbWf2dA",
        "outputId": "b601df9b-4da4-46e4-96e4-049cd6ddea2f"
      },
      "execution_count": 14,
      "outputs": [
        {
          "output_type": "stream",
          "name": "stdout",
          "text": [
            "[0.82436196 0.67220651 0.91861591 0.76310806 0.10026631 0.70907757\n",
            " 0.06114842 0.83774929 0.39824641 0.28354617 0.63956704 0.51701588\n",
            " 0.43308818 0.37861614 0.95323201 0.25074751 0.90130486 0.6444752\n",
            " 0.17607323 0.15314375 0.58856075 0.24955492 0.27750467 0.66234521\n",
            " 0.31560654]\n"
          ]
        }
      ]
    },
    {
      "cell_type": "markdown",
      "source": [
        "k. Создайте матрицу по обарзцу, используя функции библиотеки NumPy\n",
        "\n",
        "---\n",
        "\n"
      ],
      "metadata": {
        "id": "97juxgTIgHwP"
      }
    },
    {
      "cell_type": "code",
      "source": [
        "matrix = np.arange(0.01, 1.01, 0.01).reshape(10,10)\n",
        "print (matrix)"
      ],
      "metadata": {
        "colab": {
          "base_uri": "https://localhost:8080/"
        },
        "id": "4-xVNEN4gbRZ",
        "outputId": "24464225-79fb-4c3d-db4d-cb4d77320821"
      },
      "execution_count": 15,
      "outputs": [
        {
          "output_type": "stream",
          "name": "stdout",
          "text": [
            "[[0.01 0.02 0.03 0.04 0.05 0.06 0.07 0.08 0.09 0.1 ]\n",
            " [0.11 0.12 0.13 0.14 0.15 0.16 0.17 0.18 0.19 0.2 ]\n",
            " [0.21 0.22 0.23 0.24 0.25 0.26 0.27 0.28 0.29 0.3 ]\n",
            " [0.31 0.32 0.33 0.34 0.35 0.36 0.37 0.38 0.39 0.4 ]\n",
            " [0.41 0.42 0.43 0.44 0.45 0.46 0.47 0.48 0.49 0.5 ]\n",
            " [0.51 0.52 0.53 0.54 0.55 0.56 0.57 0.58 0.59 0.6 ]\n",
            " [0.61 0.62 0.63 0.64 0.65 0.66 0.67 0.68 0.69 0.7 ]\n",
            " [0.71 0.72 0.73 0.74 0.75 0.76 0.77 0.78 0.79 0.8 ]\n",
            " [0.81 0.82 0.83 0.84 0.85 0.86 0.87 0.88 0.89 0.9 ]\n",
            " [0.91 0.92 0.93 0.94 0.95 0.96 0.97 0.98 0.99 1.  ]]\n"
          ]
        }
      ]
    },
    {
      "cell_type": "markdown",
      "source": [
        "l. Дана стартовая матрица Вывести матрицу по образцу из задания\n",
        "\n",
        "---\n",
        "\n"
      ],
      "metadata": {
        "id": "f7La3uy7hoqH"
      }
    },
    {
      "cell_type": "code",
      "source": [
        "#стартовая матрица\n",
        "mat = np.arange(1,26).reshape(5,5)\n",
        "print(mat)"
      ],
      "metadata": {
        "colab": {
          "base_uri": "https://localhost:8080/"
        },
        "id": "jdUJzSjihqUv",
        "outputId": "327cb9e5-e7bd-4f2c-9426-16ade8280261"
      },
      "execution_count": 16,
      "outputs": [
        {
          "output_type": "stream",
          "name": "stdout",
          "text": [
            "[[ 1  2  3  4  5]\n",
            " [ 6  7  8  9 10]\n",
            " [11 12 13 14 15]\n",
            " [16 17 18 19 20]\n",
            " [21 22 23 24 25]]\n"
          ]
        }
      ]
    },
    {
      "cell_type": "code",
      "source": [
        "array = mat[2:,1:]\n",
        "print ('array', array)"
      ],
      "metadata": {
        "colab": {
          "base_uri": "https://localhost:8080/"
        },
        "id": "CTCfDL6wiUYv",
        "outputId": "1426ae08-5afa-4db3-b74c-bae6cafe6682"
      },
      "execution_count": 17,
      "outputs": [
        {
          "output_type": "stream",
          "name": "stdout",
          "text": [
            "array [[12 13 14 15]\n",
            " [17 18 19 20]\n",
            " [22 23 24 25]]\n"
          ]
        }
      ]
    },
    {
      "cell_type": "markdown",
      "source": [
        "m. Написать код обращения к элементу который вернет значение 20 из\n",
        "стартовой матрицы задачи l.\n",
        "\n",
        "---\n",
        "\n"
      ],
      "metadata": {
        "id": "-8DGTTahjTHP"
      }
    },
    {
      "cell_type": "code",
      "source": [
        "element = mat[mat == 20]\n",
        "print(element)"
      ],
      "metadata": {
        "colab": {
          "base_uri": "https://localhost:8080/"
        },
        "id": "9DbIZKi-jbtu",
        "outputId": "6215b373-fe2b-455c-d9dc-a170be26f6bc"
      },
      "execution_count": 18,
      "outputs": [
        {
          "output_type": "stream",
          "name": "stdout",
          "text": [
            "[20]\n"
          ]
        }
      ]
    },
    {
      "cell_type": "markdown",
      "source": [
        "n. Написать код к стартовой матрице, который воспроизводит\n",
        "вывод по образцу из задания\n",
        "\n",
        "---\n",
        "\n"
      ],
      "metadata": {
        "id": "x0m83lCPh6QH"
      }
    },
    {
      "cell_type": "code",
      "source": [
        "array = mat[:3,1].reshape(3,1)\n",
        "print ('array', array)"
      ],
      "metadata": {
        "colab": {
          "base_uri": "https://localhost:8080/"
        },
        "id": "hU0gvFPwj8qA",
        "outputId": "45edf38c-5f37-4a05-9031-54f3912016bb"
      },
      "execution_count": 19,
      "outputs": [
        {
          "output_type": "stream",
          "name": "stdout",
          "text": [
            "array [[ 2]\n",
            " [ 7]\n",
            " [12]]\n"
          ]
        }
      ]
    },
    {
      "cell_type": "markdown",
      "source": [
        "o. Написать код к стартовой матрице, который воспроизводит вывод по образцу из задания\n",
        "\n",
        "---\n",
        "\n"
      ],
      "metadata": {
        "id": "UmDgMzyVkstN"
      }
    },
    {
      "cell_type": "code",
      "source": [
        "array = mat[4:]\n",
        "print ('array', array)"
      ],
      "metadata": {
        "colab": {
          "base_uri": "https://localhost:8080/"
        },
        "id": "-UvcLdAlkvuO",
        "outputId": "c8767a9f-e346-4db6-a3a0-4add4757578c"
      },
      "execution_count": 20,
      "outputs": [
        {
          "output_type": "stream",
          "name": "stdout",
          "text": [
            "array [[21 22 23 24 25]]\n"
          ]
        }
      ]
    },
    {
      "cell_type": "markdown",
      "source": [
        "p. Написать код к стартовой матрице, который воспроизводит вывод по образцу из задания\n",
        "\n",
        "---\n",
        "\n"
      ],
      "metadata": {
        "id": "K7URbKahlOeG"
      }
    },
    {
      "cell_type": "code",
      "source": [
        "array = mat[3:]\n",
        "print ('array', array)"
      ],
      "metadata": {
        "colab": {
          "base_uri": "https://localhost:8080/"
        },
        "id": "kGiN4WfBlS_u",
        "outputId": "edd3b7bc-c87b-49e4-9014-a0905c754be7"
      },
      "execution_count": 21,
      "outputs": [
        {
          "output_type": "stream",
          "name": "stdout",
          "text": [
            "array [[16 17 18 19 20]\n",
            " [21 22 23 24 25]]\n"
          ]
        }
      ]
    },
    {
      "cell_type": "markdown",
      "source": [
        "q. Получить сумму всех значений в стартовой матрице mat\n",
        "\n",
        "---\n",
        "\n"
      ],
      "metadata": {
        "id": "OS7qh-qclgbG"
      }
    },
    {
      "cell_type": "code",
      "source": [
        "print ('Сумма элементов стартовой матрицы:', mat.sum())"
      ],
      "metadata": {
        "colab": {
          "base_uri": "https://localhost:8080/"
        },
        "id": "T8wPCZhtmAdR",
        "outputId": "316575dc-2119-4e0a-9f07-7070bc7fdff0"
      },
      "execution_count": 22,
      "outputs": [
        {
          "output_type": "stream",
          "name": "stdout",
          "text": [
            "Сумма элементов стартовой матрицы: 325\n"
          ]
        }
      ]
    },
    {
      "cell_type": "markdown",
      "source": [
        "r. Получить стандартное отклонение в стартовой матрице mat\n",
        "\n",
        "---\n",
        "\n"
      ],
      "metadata": {
        "id": "pLDpvppXmiCm"
      }
    },
    {
      "cell_type": "code",
      "source": [
        "print ('Стандартное отклонение в стартовой матрице:', mat.std())"
      ],
      "metadata": {
        "colab": {
          "base_uri": "https://localhost:8080/"
        },
        "id": "rYZXaxRpmAWn",
        "outputId": "5c3f4bf8-5412-4401-9cb2-5a9648d51b2f"
      },
      "execution_count": 23,
      "outputs": [
        {
          "output_type": "stream",
          "name": "stdout",
          "text": [
            "Стандартное отклонение в стартовой матрице: 7.211102550927978\n"
          ]
        }
      ]
    },
    {
      "cell_type": "markdown",
      "source": [
        "s. Получить сумму значений в колонках в стартовой матрице mat\n",
        "\n",
        "---\n",
        "\n"
      ],
      "metadata": {
        "id": "vedxqY7mnHvP"
      }
    },
    {
      "cell_type": "code",
      "source": [
        "print (mat.sum(axis=0))"
      ],
      "metadata": {
        "colab": {
          "base_uri": "https://localhost:8080/"
        },
        "id": "j0rta-RQnKyW",
        "outputId": "6c819bbb-a0d2-4cf8-d9a1-ee639bb56c03"
      },
      "execution_count": 24,
      "outputs": [
        {
          "output_type": "stream",
          "name": "stdout",
          "text": [
            "[55 60 65 70 75]\n"
          ]
        }
      ]
    }
  ]
}